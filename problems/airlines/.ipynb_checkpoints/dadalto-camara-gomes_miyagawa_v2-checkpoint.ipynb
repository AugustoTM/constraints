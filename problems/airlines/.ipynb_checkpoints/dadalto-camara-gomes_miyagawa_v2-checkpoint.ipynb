{
 "cells": [
  {
   "cell_type": "markdown",
   "metadata": {},
   "source": [
    "# Airline staffing problem\n",
    "\n",
    "\n",
    "### Group: Augusto Tadashi MIYAGAWA and Eduardo DADALTO CAMARA GOMES\n",
    "\n",
    "\n",
    "*Original lab session by Gérard Verfaillie.*\n",
    "\n",
    "This problem is about the staffing of an airline, i.e. assigning pilots and crew members to scheduled flights using a Constraint Satisfaction/Optimisation Problem (CSP/COP) solver (here `facile`). Three instances of the problem are given.\n",
    "\n",
    "As a pure CSP modelling fails for the larger instance, we will solve it using a combination of CSP and Mixed-Integer Linear Programming (MILP) modelling. You may refer to past classes with the `PuLP` library for basic usage.\n",
    "\n",
    "<div class=\"alert alert-warning\">\n",
    "    <b>Warning</b>: You may submit in French or English. Make a choice and stick to it (don't mix languages).\n",
    "</div>"
   ]
  },
  {
   "cell_type": "code",
   "execution_count": 1,
   "metadata": {},
   "outputs": [],
   "source": [
    "import facile"
   ]
  },
  {
   "cell_type": "markdown",
   "metadata": {},
   "source": [
    "## Reminders of syntax with the facile library"
   ]
  },
  {
   "cell_type": "markdown",
   "metadata": {},
   "source": [
    "<div class=\"alert alert-success\">\n",
    "    <b>Hint</b>: Constraints may be summed: the result is the number of True values in the set of constraints.<br/>(However, this doesn't work with global constraints such as alldifferent)\n",
    "</div>\n",
    "\n",
    "Example: Find an array of length $n$ taking values in $[0, n-1]$ so that the $i$-th value is equal to the number of $i$ inside the array."
   ]
  },
  {
   "cell_type": "code",
   "execution_count": null,
   "metadata": {},
   "outputs": [],
   "source": [
    "n = 10\n",
    "array = [facile.variable(range(n)) for i in range(n)]\n",
    "\n",
    "for i in range(n):\n",
    "    facile.constraint(sum([x == i for x in array]) == array[i])\n",
    "\n",
    "if facile.solve(array):\n",
    "    print(f\"indices: {list(range(n))}\")\n",
    "    print(f\"array:   {[v.value() for v in array]}\")"
   ]
  },
  {
   "cell_type": "markdown",
   "metadata": {},
   "source": [
    "<div class=\"alert alert-success\">\n",
    "    <b>Hint</b>: You may use the & and | operators for the logical $\\land$ and $\\lor$.<br/>(However, this doesn't work with global constraints such as alldifferent)\n",
    "</div>"
   ]
  },
  {
   "cell_type": "code",
   "execution_count": null,
   "metadata": {},
   "outputs": [],
   "source": [
    "a, b = facile.variable([0, 1, 2]), facile.variable([0, 1, 2])\n",
    "\n",
    "left = (a == b) & (a + b == 2)\n",
    "right = a > b\n",
    "facile.constraint(left | right)\n",
    "result = facile.solve([a, b])\n",
    "a.value(), b.value()"
   ]
  },
  {
   "cell_type": "markdown",
   "metadata": {},
   "source": [
    "<div class=\"alert alert-success\">\n",
    "    <b>Hint</b>: You may use the <code>solve_all</code> function to get all the solutions to a CSP problem.\n",
    "</div>"
   ]
  },
  {
   "cell_type": "code",
   "execution_count": null,
   "metadata": {},
   "outputs": [],
   "source": [
    "a, b = facile.variable([0, 1, 2]), facile.variable([0, 1, 2])\n",
    "\n",
    "left = (a == b) & (a + b == 2)\n",
    "right = a > b\n",
    "facile.constraint(left | right)\n",
    "result = facile.solve_all([a, b])\n",
    "\n",
    "[x.solution for x in result]"
   ]
  },
  {
   "cell_type": "markdown",
   "metadata": {},
   "source": [
    "<div class=\"alert alert-warning\">\n",
    "    <b>Warning</b>: Using <code>solve_all</code> does not assign any value to a variable. (The explanation lies in the fact the Branch&Bound algorithm returns with no solution found—hence the last <code>None</code>)<br/>Note the similar behaviour with the <code>minimize</code> function.\n",
    "</div>"
   ]
  },
  {
   "cell_type": "code",
   "execution_count": null,
   "metadata": {},
   "outputs": [],
   "source": [
    "a.value(), b.value()"
   ]
  },
  {
   "cell_type": "markdown",
   "metadata": {},
   "source": [
    "<div class=\"alert alert-success\">\n",
    "    <b>Hint</b>: You may index a 1D-array of variables with a facile variable or expression. But you first need to wrap the array with the facile.array function.\n",
    "</div>\n",
    "<div class=\"alert alert-danger\">\n",
    "    <b>Warning</b>: Be aware that the indexing value will be constrained between 0 and max_index.\n",
    "</div>\n",
    "<div class=\"alert alert-warning\">\n",
    "    <b>Warning</b>: If you work with 2D-arrays, the linearisation of indices (remember your programming classes 😀) is left to you as part of the exercice. This should be something along a[i][j] becomes a[i*n + j]...\n",
    "</div>\n",
    "\n",
    "Example: find the position of the first 0 in a given array."
   ]
  },
  {
   "cell_type": "code",
   "execution_count": null,
   "metadata": {},
   "outputs": [],
   "source": [
    "a = facile.array([1, 2, 0, 4, 5, 0])\n",
    "i = facile.variable(range(len(a)))\n",
    "facile.constraint(a[i] == 0)\n",
    "result = facile.minimize([i], i)\n",
    "result.solution"
   ]
  },
  {
   "cell_type": "markdown",
   "metadata": {},
   "source": [
    "## Problem description\n",
    "\n",
    "An airline operates a given set of flights between pairs of airports. Each flight must be staffed with two pilots and enough cabin crew members depending on the type of aircraft.\n",
    "\n",
    "Each staff member must start its trip from his hometown (not before 12am) and be back home in the evening (before 12am). They must not fly more than a maximum number of flights per day, and more than a maximum amount of time out of home (from first take-off time to last landing time in addition to commuting time).\n",
    "\n",
    "Each staff member may fly as a passenger if they just need to be transferred to another airport/city. They may as well be assigned to just stay home.\n",
    "\n",
    "We will first search for a solution to this problem, then find the optimal solution that will maximise the money made by the airline by minimising the number of passenger seats assigned to staff."
   ]
  },
  {
   "cell_type": "markdown",
   "metadata": {},
   "source": [
    "## Problem data"
   ]
  },
  {
   "cell_type": "markdown",
   "metadata": {},
   "source": [
    "The following data are given:\n",
    "- `Nv`: total number of flights;\n",
    "- `Na`: total number of airports;\n",
    "- `Ni`: total number of cities;\n",
    "- `Va`: a table associating a city to an airport (they may be several airports in the same city);\n",
    "- `Ov` (resp. `Dv`): this table associates an origin (resp. destination) airport to a flight;\n",
    "- `Td` (resp. `Ta`): this table associates a take-off time (resp. landing time) to a flight, (in round hours);\n",
    "- `Dt`: this table returns transit times between two airports of the same city (in hours). This time is equal to 25 (more than a day, so infinite) for airports in different cities; `Dt[i][i]` is the time required to transfer between two aircraft at airport $i$;\n",
    "- `Np`: this table associates a number of passenger seats to a flight;\n",
    "- `Nec`: this table associates a number of required cabin crew members to a flight;\n",
    "- `Pr`: this table associates a price for a ticket in a flight;\n",
    "- `Ne`: total number of staff in the airline;\n",
    "- `Ty`: this table associates 1 to a pilot, 0 to a cabin crew member;\n",
    "- `Vh`: this tables associates a hometown to each staff member;\n",
    "- `Nvmax`: maximum number of flights per staff member per day;\n",
    "- `Dmax`: maximum work time (out of home) per staff member per day;\n",
    "- `Dda`: standard commuting time (both ways).\n",
    "\n",
    "<div class=\"alert alert-success\">\n",
    "    <b>Hint</b>: Three instances are given (tiny, small, normal). Start debugging with the tiny instance; when it works, try the small instance: <b>you will be graded based on the results of the small instance</b>.\n",
    "</div>\n",
    "<div class=\"alert alert-warning\">\n",
    "    <b>Warning</b>: Keep the normal instance for next section. (Trying it with this modelling may stall the kernel and require a restart)\n",
    "</div>\n",
    "\n",
    "Index 0 in the tables printed below means \"no flight\", associated to \"no airport\" and \"no city\"."
   ]
  },
  {
   "cell_type": "code",
   "execution_count": 5,
   "metadata": {
    "jupyter": {
     "outputs_hidden": false
    }
   },
   "outputs": [],
   "source": [
    "def load_airline(airline_size):\n",
    "    if airline_size == 1:\n",
    "        %run airline-tiny.py\n",
    "    if airline_size == 2:\n",
    "        %run airline-small.py\n",
    "    if airline_size == 3:\n",
    "        %run airline-normal.py"
   ]
  },
  {
   "cell_type": "markdown",
   "metadata": {},
   "source": [
    "## CSP modelling\n",
    "\n",
    "### Variable definitions\n",
    "\n",
    "First, define the variables of the problem. You may associate a variable to each flight taken by a staff member on a given day."
   ]
  },
  {
   "cell_type": "markdown",
   "metadata": {},
   "source": [
    "#### Comments\n",
    "\n",
    "<div class=\"alert alert-danger\">\n",
    "$schedule = \\sum\\limits_{i = 1}^{N_e}\\sum\\limits_{j = 0}^{N_{vmax}} var_{i,j}$\n",
    "\n",
    "$schedule$ is a matrix of variables with $N_e$ rows and $N_{vmax}+1$ columns. The variable $var$ can have values from 0 to $N_v$    \n",
    "</div>\n"
   ]
  },
  {
   "cell_type": "code",
   "execution_count": 6,
   "metadata": {
    "jupyter": {
     "outputs_hidden": false
    }
   },
   "outputs": [
    {
     "name": "stderr",
     "output_type": "stream",
     "text": [
      "C:\\Anaconda3\\envs\\tensorF\\lib\\site-packages\\ipykernel_launcher.py:2: DeprecationWarning: Using or importing the ABCs from 'collections' instead of from 'collections.abc' is deprecated, and in 3.8 it will stop working\n",
      "  \n"
     ]
    }
   ],
   "source": [
    "load_airline(2)\n",
    "schedule = [[facile.variable(0,Nv) for i in range(Nvmax+1)] for j in range(Ne)]"
   ]
  },
  {
   "cell_type": "markdown",
   "metadata": {},
   "source": [
    "### Constraints definition (50%)\n",
    "\n",
    "<div class=\"alert alert-warning\">\n",
    "    <b>Warning</b>: Please write and explain (use Python comments) the code for each constraint in the corresponding <b>code</b> cells.<br/>Use Python comments for explanations. <b>You will be graded accordingly.</b><br/>You may add as many cells as necessary but do not move existing cells.\n",
    "</div>"
   ]
  },
  {
   "cell_type": "markdown",
   "metadata": {},
   "source": [
    "- Flights assigned to `0` (no flight) must be at the end of the schedule.  \n",
    "  `[1, 0, 2]` could be equivalent to `[1, 2, 0]` but only the second one is valid."
   ]
  },
  {
   "cell_type": "markdown",
   "metadata": {},
   "source": [
    "#### Comments\n",
    "\n",
    "<div class=\"alert alert-danger\">\n",
    "Constraint :\n",
    "    <br/>- The first column is equal to zero (because the matrix has $N_{vmax}+1$ columns).\n",
    "    <br/>$schedule_{i,0} = 0$\n",
    "    <br/>\n",
    "    <br/>- The element of the matrix line is different to zero or the next element is equal to zero to guarantee that all flights assigned to 0 are in the end of the schedule.\n",
    "    <br/> $schedule_{i,j} \\neq 0$ | $schedule_{i,j+1} = 0$ ($schedule_{i,j} = 0$ $\\rightarrow$ $schedule_{i,j+1} = 0$)\n",
    "</div>"
   ]
  },
  {
   "cell_type": "code",
   "execution_count": 9,
   "metadata": {
    "jupyter": {
     "outputs_hidden": false
    }
   },
   "outputs": [],
   "source": [
    "for line in schedule:\n",
    "    facile.constraint(line[0] == 0)\n",
    "    for j in range(1, Nvmax):\n",
    "        \n",
    "        # Constraint\n",
    "        facile.constraint((line[j] != 0) | (line[j+1] == 0))"
   ]
  },
  {
   "cell_type": "markdown",
   "metadata": {},
   "source": [
    "- If a staff member flies on that day, then (s)he leaves home and returns home."
   ]
  },
  {
   "cell_type": "markdown",
   "metadata": {},
   "source": [
    "#### Comments\n",
    "\n",
    "<div class=\"alert alert-danger\">\n",
    "    Constraint :\n",
    "    <br/> - City of departure is the same as staff member hometown and  is the first flight ($facile.constraint( (citydeparture == hometown) | (flight1 == 0))$)\n",
    "    <br/> $citydeparture \\neq hometow \\rightarrow flight1 = 0$\n",
    "    <br/>\n",
    "    <br/> - The last flight arrives in the hometown ($facile.constraint((Va[Dv[lastflight]] == hometown) | (flight1 == 0))$)\n",
    "    <br/> $Va[Dv[lastflight]] \\neq hometow \\rightarrow flight1 = 0$\n",
    "</div>"
   ]
  },
  {
   "cell_type": "code",
   "execution_count": 10,
   "metadata": {
    "jupyter": {
     "outputs_hidden": false
    }
   },
   "outputs": [],
   "source": [
    "# Transform the variables in a facile.array\n",
    "Ov = facile.array(Ov)\n",
    "Dv = facile.array(Dv)\n",
    "Va = facile.array(Va)\n",
    "Ta = facile.array(Ta)\n",
    "Td = facile.array(Td)\n",
    "\n",
    "vide = []\n",
    "for j in Dt:\n",
    "    for i in j:    \n",
    "        vide.append(i)\n",
    "Dt2 = facile.array(vide)\n",
    "\n",
    "# Define constraints\n",
    "for i in range(Ne):\n",
    "    flight1 = schedule[i][1]\n",
    "    hometown = Vh[i]\n",
    "    citydeparture = Va[Ov[flight1]]\n",
    "    \n",
    "    # Constraint\n",
    "    facile.constraint( (citydeparture == hometown) | (flight1 == 0))\n",
    "    \n",
    "    staff = schedule[i][:]\n",
    "    last = sum([staff[i]!=0 for i in range(Nvmax+1)])\n",
    "    staff_array = facile.array(staff)\n",
    "    lastflight = staff_array[last]\n",
    "    destination_last = Va[Dv[lastflight]]\n",
    "    \n",
    "    # Constraint\n",
    "    facile.constraint((Va[Dv[lastflight]] == hometown) | (flight1 == 0))"
   ]
  },
  {
   "cell_type": "markdown",
   "metadata": {},
   "source": [
    "- A staff member may chain two flights iff :\n",
    "    - first flight's destination airport and second flight's origin airport cities match;\n",
    "    - there is enough transfer time between flights."
   ]
  },
  {
   "cell_type": "markdown",
   "metadata": {},
   "source": [
    "#### Comments\n",
    "\n",
    "<div class=\"alert alert-danger\">\n",
    "    Constraint :\n",
    "    <br/> - First flight's destination airport ($schedule_{i,j}$) and second flight's origin airport ($schedule_{i,j+1}$) cities match ($facile.constraint((fist \\: destination == second\\:origin) | (second\\:flight == 0))$);\n",
    "    <br/> - The conexion time is longer than transit time ($facile.constraint((conexion\\:time>=transit\\:time) | (second\\:flight == 0))$)\n",
    "</div>"
   ]
  },
  {
   "cell_type": "code",
   "execution_count": 11,
   "metadata": {
    "jupyter": {
     "outputs_hidden": false
    }
   },
   "outputs": [],
   "source": [
    "for i in range(Ne):\n",
    "    staff = schedule[i][:]\n",
    "    for j in range(1,Nvmax):\n",
    "        first_flight = staff[j]\n",
    "        second_flight = staff[j+1]\n",
    "        \n",
    "        fist_destination = Va[Dv[first_flight]]\n",
    "        second_origin = Va[Ov[second_flight]]\n",
    "        \n",
    "        # Constraint\n",
    "        facile.constraint((fist_destination == second_origin) | (second_flight == 0))\n",
    "        \n",
    "        first_landing = Ta[first_flight]\n",
    "        second_takeoff = Td[second_flight]\n",
    "        conexion_time = second_takeoff - first_landing\n",
    "        first_airport = Dv[first_flight]\n",
    "        second_airport = Ov[second_flight]\n",
    "        transit_time = Dt2[first_airport*(Na+1) + second_airport]\n",
    "        \n",
    "        # Constraint\n",
    "        facile.constraint((conexion_time>=transit_time) | (second_flight == 0))\n",
    "   "
   ]
  },
  {
   "cell_type": "markdown",
   "metadata": {},
   "source": [
    "- A staff member may not exceed his/her total time out of home;"
   ]
  },
  {
   "cell_type": "markdown",
   "metadata": {},
   "source": [
    "#### Comments\n",
    "\n",
    "<div class=\"alert alert-danger\">\n",
    "    Constraint :\n",
    "    <br/> - The time between flights (time) plus standard commuting time (Dda) must be smaller than maximum work time per staff member (Dmax) <br/>($facile.constraint(((time + Dda) <= (Dmax)))$). \n",
    "</div>"
   ]
  },
  {
   "cell_type": "code",
   "execution_count": 12,
   "metadata": {
    "jupyter": {
     "outputs_hidden": false
    }
   },
   "outputs": [],
   "source": [
    "for i in range(Ne):\n",
    "    flight1 = schedule[i][1]\n",
    "    staff = schedule[i][:]\n",
    "    last = sum([staff[j]!=0 for j in range(Nvmax+1)])\n",
    "    staff_array = facile.array(staff)\n",
    "    lastflight = staff_array[last]\n",
    "    time = Ta[lastflight]-Td[flight1]\n",
    "    \n",
    "    # Constraint\n",
    "    facile.constraint(((time + Dda) <= (Dmax)))"
   ]
  },
  {
   "cell_type": "markdown",
   "metadata": {},
   "source": [
    "- Each flights requires at least two pilots and enough cabin crew members."
   ]
  },
  {
   "cell_type": "markdown",
   "metadata": {},
   "source": [
    "#### Comments\n",
    "\n",
    "<div class=\"alert alert-danger\">\n",
    "    Constraint :\n",
    "    <br/> - The crew must be bigger or equal to than the minimum required in a cabin during a flight ($facile.constraint(crews >= Nec[flight])$).\n",
    "    <br/> - Requires at least two pilots ($facile.constraint(pilots >= 2)$).\n",
    "</div>"
   ]
  },
  {
   "cell_type": "code",
   "execution_count": 13,
   "metadata": {
    "jupyter": {
     "outputs_hidden": false
    }
   },
   "outputs": [],
   "source": [
    "vide = []\n",
    "for j in schedule:\n",
    "    for i in j:    \n",
    "        vide.append(i)\n",
    "schedule2 = facile.array(vide)\n",
    "for flight in range(1,Nv+1):\n",
    "    crews = sum([schedule2[i*(Nvmax+1) + j] == flight for i in range(Ne) for j in range(Nvmax+1) if Ty[i] == 0])\n",
    "    pilots = sum([schedule2[i*(Nvmax+1) + j] == flight for i in range(Ne) for j in range(Nvmax+1) if Ty[i] == 1])\n",
    "    \n",
    "    # Constraint\n",
    "    facile.constraint(crews >= Nec[flight])\n",
    "    \n",
    "    # Constraint\n",
    "    facile.constraint(pilots >= 2)\n",
    "    "
   ]
  },
  {
   "cell_type": "markdown",
   "metadata": {},
   "source": [
    "### Problem optimisation (5%)"
   ]
  },
  {
   "cell_type": "code",
   "execution_count": 14,
   "metadata": {
    "jupyter": {
     "outputs_hidden": false
    }
   },
   "outputs": [],
   "source": [
    "# maximize revenue\n",
    "revenue = facile.variable(0, 1000000)\n",
    "for flight in range(1,Nv+1):\n",
    "    crews = sum([schedule2[i*(Nvmax+1) + j] == flight for i in range(Ne) for j in range(Nvmax+1) if Ty[i] == 0])\n",
    "    pilots = sum([schedule2[i*(Nvmax+1) + j] == flight for i in range(Ne) for j in range(Nvmax+1) if Ty[i] == 1])\n",
    "\n",
    "    seated = (Np[flight] - ((pilots-2) + (crews - Nec[flight])))\n",
    "    revenue = revenue + seated*Pr[flight]\n",
    "result = facile.minimize(schedule2, -revenue)"
   ]
  },
  {
   "cell_type": "markdown",
   "metadata": {},
   "source": [
    "### Answer the problem (10%)"
   ]
  },
  {
   "cell_type": "markdown",
   "metadata": {},
   "source": [
    "<div class='alert alert-warning'>\n",
    "To maximise your grade, please post-process and pretty-print the results of the optimisation and check they are consistent with the constraints. <b>If you find inconsistencies you cannot solve, please point them.</b> (You will fail this question if you pretend everything is fine or if you try to hide your issues)\n",
    "</div>\n",
    "\n",
    "For each staff member, list the flights (s)he will be flying with cities and take-off/landing times.\n",
    "\n",
    "Valid example:\n",
    "```\n",
    "Staff number 0: 1 [1, 2] 2 [2, 1] scheduled at [8, 9] [12, 13]\n",
    "Staff number 1: ...\n",
    "```\n",
    "    \n",
    "For each flight, list the pilots and cabin crew members flying (together with the required staffing of the aircraft).\n",
    "\n",
    "Valid example:\n",
    "```\n",
    "Flight number 1: pilots {0, 1} cabin crew {2, 3} (≥ 2) ;\n",
    "Flight number 2: ...\n",
    "```\n"
   ]
  },
  {
   "cell_type": "code",
   "execution_count": 19,
   "metadata": {
    "jupyter": {
     "outputs_hidden": false
    }
   },
   "outputs": [
    {
     "name": "stdout",
     "output_type": "stream",
     "text": [
      "\n",
      "Staff number 0: flight 1 from/to [1, 2] schedule at [8, 7], flight 4 from/to [2, 4] schedule at [13, 12], flight 6 from/to [4, 1] schedule at [20, 18], \n",
      "Staff number 1: flight 1 from/to [1, 2] schedule at [8, 7], flight 4 from/to [2, 4] schedule at [13, 12], flight 6 from/to [4, 1] schedule at [20, 18], \n",
      "Staff number 2: flight 2 from/to [1, 3] schedule at [9, 8], flight 5 from/to [3, 1] schedule at [24, 23], \n",
      "Staff number 3: flight 2 from/to [1, 3] schedule at [9, 8], flight 5 from/to [3, 1] schedule at [24, 23], \n",
      "Staff number 4: flight 3 from/to [1, 4] schedule at [11, 9], flight 7 from/to [4, 3] schedule at [19, 18], flight 5 from/to [3, 1] schedule at [24, 23], \n",
      "Staff number 5: flight 3 from/to [1, 4] schedule at [11, 9], flight 7 from/to [4, 3] schedule at [19, 18], flight 5 from/to [3, 1] schedule at [24, 23], \n",
      "Staff number 6: flight 1 from/to [1, 2] schedule at [8, 7], flight 4 from/to [2, 4] schedule at [13, 12], flight 6 from/to [4, 1] schedule at [20, 18], \n",
      "Staff number 7: flight 1 from/to [1, 2] schedule at [8, 7], flight 4 from/to [2, 4] schedule at [13, 12], flight 6 from/to [4, 1] schedule at [20, 18], \n",
      "Staff number 8: flight 2 from/to [1, 3] schedule at [9, 8], flight 5 from/to [3, 1] schedule at [24, 23], \n",
      "Staff number 9: flight 2 from/to [1, 3] schedule at [9, 8], flight 5 from/to [3, 1] schedule at [24, 23], \n",
      "Staff number 10: flight 3 from/to [1, 4] schedule at [11, 9], flight 6 from/to [4, 1] schedule at [20, 18], \n",
      "Staff number 11: flight 3 from/to [1, 4] schedule at [11, 9], flight 7 from/to [4, 3] schedule at [19, 18], flight 5 from/to [3, 1] schedule at [24, 23], \n",
      "Flight number 1: pilots {0, 1} cabin crew {6, 7} (≥ 2)\n",
      "Flight number 2: pilots {2, 3} cabin crew {8, 9} (≥ 2)\n",
      "Flight number 3: pilots {4, 5} cabin crew {10, 11} (≥ 2)\n",
      "Flight number 4: pilots {0, 1} cabin crew {6, 7} (≥ 1)\n",
      "Flight number 5: pilots {2, 3, 4, 5} cabin crew {8, 9, 11} (≥ 2)\n",
      "Flight number 6: pilots {0, 1} cabin crew {10, 6, 7} (≥ 2)\n",
      "Flight number 7: pilots {4, 5} cabin crew {11} (≥ 1)"
     ]
    }
   ],
   "source": [
    "for i in range(Ne):\n",
    "    vec = result.solution[i*(Nvmax+1)+1:i*(Nvmax+1)+(Nvmax+1)]\n",
    "    print('\\nStaff number {}: '.format(i), end='')\n",
    "    [print('flight {} from/to [{}, {}] schedule at [{}, {}], '\n",
    "           .format(j, Va[Ov[j]].value(),Va[Dv[j]].value(), Ta[j].value(), Td[j].value()),  end='') for j in vec if j >0] \n",
    "\n",
    "for flight in range(1,Nv+1):\n",
    "    print('\\nFlight number {}: '.format(flight), end='')\n",
    "    pilots = set()\n",
    "    crews = set()\n",
    "    for staff in range(Ne):\n",
    "        vec = result.solution[staff*(Nvmax+1)+1:staff*(Nvmax+1)+(Nvmax+1)]\n",
    "        if flight in vec:\n",
    "            if Ty[staff]:\n",
    "                pilots.add(staff) \n",
    "            else:\n",
    "                crews.add(staff)\n",
    "    num = Nec[flight]\n",
    "    [print('pilots {} cabin crew {} (≥ {})'.format(pilots, crews, num), end='')]\n"
   ]
  },
  {
   "cell_type": "markdown",
   "metadata": {},
   "source": [
    "## A different modelling for CSP and MILP\n",
    "\n",
    "Since bigger instances will require too much computing time, let's try something smarter:\n",
    "1. First use a CSP solver to compute all possible paths between cities;\n",
    "2. Then compare performances between a CSP and a MILP solver as we no longer assign staff members but groups of staff members to each path.\n",
    "\n",
    "<div class=\"alert alert-success\">\n",
    "    <b>Hint</b>: Three instances are given (tiny, small, normal). Start debugging with the small instance; when it works, try the normal instance: you will be graded based on the results of the <b>normal instance</b>.\n",
    "</div>"
   ]
  },
  {
   "cell_type": "markdown",
   "metadata": {},
   "source": [
    "### First questions (10%)\n",
    "\n",
    "<div class=\"alert alert-warning\">\n",
    "    <b>Warning</b>: Do not expect any external assistance for these questions. You are on your own.\n",
    "</div>\n",
    "\n",
    "1. Why would it help to solve the problem for groups of staff member rather than individuals. Which mathematical principle enters into account?\n",
    "2. Try to explain why CSP better suits (compared to MILP) the path computing part of the problem."
   ]
  },
  {
   "cell_type": "markdown",
   "metadata": {},
   "source": [
    "<div class=\"alert alert-info\">\n",
    "    <b>Answer question 1</b>: \n",
    "    <br\\>When we group the staff, the search tree shrinks and avoid the combinatorial explosion.\n",
    "</div>"
   ]
  },
  {
   "cell_type": "markdown",
   "metadata": {},
   "source": [
    "<div class=\"alert alert-info\">\n",
    "    <b>Answer question 2</b>: \n",
    "    <br\\>The CSP finds all possible solutions to the problem, while the MILP optimize the solution search to find the optimal one. Thus, the MILP does not check every possible solution or path.\n",
    "</div>"
   ]
  },
  {
   "cell_type": "markdown",
   "metadata": {},
   "source": [
    "### Compute all possible paths (10%)"
   ]
  },
  {
   "cell_type": "code",
   "execution_count": 20,
   "metadata": {},
   "outputs": [],
   "source": [
    "load_airline(2)"
   ]
  },
  {
   "cell_type": "markdown",
   "metadata": {},
   "source": [
    "<div class=\"alert alert-danger\">\n",
    "    <b>Transformation of variable types</b> \n",
    "</div>"
   ]
  },
  {
   "cell_type": "code",
   "execution_count": 21,
   "metadata": {},
   "outputs": [],
   "source": [
    "Ov = facile.array(Ov)\n",
    "Dv = facile.array(Dv)\n",
    "Va = facile.array(Va)\n",
    "Ta = facile.array(Ta)\n",
    "Td = facile.array(Td)\n",
    "\n",
    "vide = []\n",
    "for j in Dt:\n",
    "    for i in j:    \n",
    "        vide.append(i)\n",
    "Dt2 = facile.array(vide)"
   ]
  },
  {
   "cell_type": "markdown",
   "metadata": {},
   "source": [
    "<div class=\"alert alert-danger\">\n",
    "    <b>Decision variable</b> \n",
    "</div>"
   ]
  },
  {
   "cell_type": "code",
   "execution_count": 22,
   "metadata": {
    "jupyter": {
     "outputs_hidden": false
    }
   },
   "outputs": [],
   "source": [
    "paths = [facile.variable(0,Nv) for i in range(Nvmax+1)]"
   ]
  },
  {
   "cell_type": "markdown",
   "metadata": {},
   "source": [
    "<div class=\"alert alert-danger\">\n",
    "    <b>First element is zero for indexing</b> \n",
    "</div>"
   ]
  },
  {
   "cell_type": "code",
   "execution_count": 23,
   "metadata": {},
   "outputs": [],
   "source": [
    "facile.constraint(paths[0] == 0)"
   ]
  },
  {
   "cell_type": "markdown",
   "metadata": {},
   "source": [
    "<div class=\"alert alert-danger\">\n",
    "    <b>Zeros in the end of each line of the matrix</b> \n",
    "</div>"
   ]
  },
  {
   "cell_type": "code",
   "execution_count": 24,
   "metadata": {
    "jupyter": {
     "outputs_hidden": false
    }
   },
   "outputs": [],
   "source": [
    "for j in range(1, Nvmax):\n",
    "    facile.constraint((paths[j] != 0) | (paths[j+1] == 0))"
   ]
  },
  {
   "cell_type": "markdown",
   "metadata": {},
   "source": [
    "<div class=\"alert alert-danger\">\n",
    "    <b>Last city equals the first city</b> \n",
    "</div>"
   ]
  },
  {
   "cell_type": "code",
   "execution_count": 25,
   "metadata": {},
   "outputs": [],
   "source": [
    "first_flight = paths[1]\n",
    "paths_array = facile.array(paths)\n",
    "last = sum(paths[j]!=0 for j in range(Nvmax+1))\n",
    "last_flight = paths_array[last]\n",
    "\n",
    "facile.constraint(Va[Ov[first_flight]] == Va[Dv[last_flight]])"
   ]
  },
  {
   "cell_type": "markdown",
   "metadata": {},
   "source": [
    "<div class=\"alert alert-danger\">\n",
    "    <b>Constraint :</b>\n",
    "    <br\\>- All flights connected\n",
    "    <br\\>- Enough connection time between flights\n",
    "</div>"
   ]
  },
  {
   "cell_type": "code",
   "execution_count": 26,
   "metadata": {},
   "outputs": [],
   "source": [
    "\n",
    "\n",
    "for j in range(1,Nvmax):\n",
    "    first_flight = paths[j]\n",
    "    second_flight = paths[j+1]\n",
    "        \n",
    "    first_destination = Va[Dv[first_flight]]\n",
    "    second_origin = Va[Ov[second_flight]]\n",
    "    \n",
    "    # Constraint\n",
    "    facile.constraint((first_destination == second_origin) | (second_flight == 0))\n",
    "        \n",
    "    first_landing = Ta[first_flight]\n",
    "    second_takeoff = Td[second_flight]\n",
    "    conexion_time = second_takeoff - first_landing\n",
    "    first_airport = Dv[first_flight]\n",
    "    second_airport = Ov[second_flight]\n",
    "    transit_time = Dt2[first_airport*(Na+1) + second_airport]\n",
    "    \n",
    "    # Constraint\n",
    "    facile.constraint((conexion_time>=transit_time) | (second_flight == 0))\n",
    "        "
   ]
  },
  {
   "cell_type": "markdown",
   "metadata": {},
   "source": [
    "<div class=\"alert alert-danger\">\n",
    "    <b>Constraint :</b>\n",
    "    <br\\>- Total path time does not exceed maximum work time\n",
    "</div>"
   ]
  },
  {
   "cell_type": "code",
   "execution_count": 27,
   "metadata": {},
   "outputs": [],
   "source": [
    "facile.constraint(Ta[last_flight]-Td[first_flight] + Dda <= Dmax)"
   ]
  },
  {
   "cell_type": "markdown",
   "metadata": {},
   "source": [
    "<div class=\"alert alert-danger\">\n",
    "    <b>Solution computation</b> \n",
    "</div>"
   ]
  },
  {
   "cell_type": "code",
   "execution_count": 28,
   "metadata": {},
   "outputs": [
    {
     "name": "stdout",
     "output_type": "stream",
     "text": [
      "All possible paths are: [[0, 0, 0, 0], [0, 1, 4, 6], [0, 2, 5, 0], [0, 3, 6, 0], [0, 3, 7, 5]]\n"
     ]
    }
   ],
   "source": [
    "result = facile.solve_all(paths)\n",
    "\n",
    "all_paths = [x.solution for x in result][:-1]\n",
    "print('All possible paths are: {}'.format(all_paths))"
   ]
  },
  {
   "cell_type": "markdown",
   "metadata": {},
   "source": [
    "### CSP and MILP resolution (15%)\n",
    "\n",
    "- Assign a group of staff members to each path;\n",
    "- Compare the computing time with CSP and MILP resolutions (use `PuLP` library for MILP);\n",
    "- Post-process and pretty-print the results;\n",
    "- Comment"
   ]
  },
  {
   "cell_type": "markdown",
   "metadata": {},
   "source": [
    "<div class=\"alert alert-danger\">\n",
    "    <b>Supplementary variable</b>\n",
    "    <br\\>- For each path there is an affected group of pilot + crew\n",
    "</div>"
   ]
  },
  {
   "cell_type": "code",
   "execution_count": 29,
   "metadata": {
    "jupyter": {
     "outputs_hidden": false
    }
   },
   "outputs": [],
   "source": [
    "all_paths = [x.solution for x in result][:-1]\n",
    "num_paths = len(all_paths)\n",
    "staffs = [facile.variable(0,num_paths-1) for j in range(Ne)]\n",
    "\n",
    "vide = []\n",
    "for j in all_paths:\n",
    "    for i in j:    \n",
    "        vide.append(i)\n",
    "all_paths2 = facile.array(vide)"
   ]
  },
  {
   "cell_type": "markdown",
   "metadata": {},
   "source": [
    "<div class=\"alert alert-danger\">\n",
    "    <b>Path's origin city equals the hometown of each staff from group G</b> \n",
    "</div>"
   ]
  },
  {
   "cell_type": "code",
   "execution_count": 30,
   "metadata": {},
   "outputs": [],
   "source": [
    "for i in range(Ne):\n",
    "    G = staffs[i]\n",
    "    first_flight = all_paths2[G*(Nvmax+1) + 1]\n",
    "    origin_city = Va[Ov[first_flight]]\n",
    "    hometown = Vh[i]\n",
    "    facile.constraint((hometown == origin_city) | (first_flight==0))"
   ]
  },
  {
   "cell_type": "markdown",
   "metadata": {},
   "source": [
    "<div class=\"alert alert-danger\">\n",
    "    <b>Check if every flight is in the solution</b> \n",
    "</div>"
   ]
  },
  {
   "cell_type": "code",
   "execution_count": 31,
   "metadata": {},
   "outputs": [],
   "source": [
    "for flight in range(1, Nv+1):\n",
    "    flight_occurence = 0\n",
    "    for k in range(Ne):\n",
    "        flight_occurence += sum([all_paths2[staffs[k]*(Nvmax+1) + j] == flight\n",
    "                            for j in range(1,Nvmax+1)])\n",
    "    facile.constraint(flight_occurence >= 1)"
   ]
  },
  {
   "cell_type": "markdown",
   "metadata": {},
   "source": [
    "<div class=\"alert alert-danger\">\n",
    "    <b>Check if there is enough pilots and crew per flight</b> \n",
    "</div>"
   ]
  },
  {
   "cell_type": "code",
   "execution_count": 32,
   "metadata": {},
   "outputs": [],
   "source": [
    "for flight in range(1,Nv+1):\n",
    "    num_crew = Nec[flight]\n",
    "    num_pilot= 2\n",
    "    crew_presence = 0\n",
    "    pilot_presence = 0\n",
    "    for k in range(Ne):\n",
    "        crew_presence += sum([(all_paths2[staffs[k]*(Nvmax+1) + j] == flight)*(1-Ty[k])\n",
    "                            for j in range(1,Nvmax+1)])\n",
    "        pilot_presence += sum([(all_paths2[staffs[k]*(Nvmax+1) + j] == flight)*Ty[k]\n",
    "                            for j in range(1,Nvmax+1)])\n",
    "    facile.constraint(crew_presence >= num_crew)\n",
    "    facile.constraint(pilot_presence >= num_pilot)"
   ]
  },
  {
   "cell_type": "markdown",
   "metadata": {},
   "source": [
    "<div class=\"alert alert-danger\">\n",
    "    <b>Revenue maximization</b> \n",
    "</div>"
   ]
  },
  {
   "cell_type": "code",
   "execution_count": 33,
   "metadata": {},
   "outputs": [],
   "source": [
    "revenue = facile.variable(0, 1000000)\n",
    "for flight in range(1,Nv+1):\n",
    "    crews = 0\n",
    "    pilots = 0\n",
    "    for k in range(Ne):\n",
    "        crews += sum([(all_paths2[staffs[k]*(Nvmax+1) + j] == flight)*(1-Ty[k])\n",
    "                            for j in range(1,Nvmax+1)])\n",
    "        pilots += sum([(all_paths2[staffs[k]*(Nvmax+1) + j] == flight)*Ty[k]\n",
    "                            for j in range(1,Nvmax+1)])\n",
    "\n",
    "    seated = (Np[flight] - ((pilots-2) + (crews - Nec[flight])))\n",
    "    revenue += seated*Pr[flight]"
   ]
  },
  {
   "cell_type": "code",
   "execution_count": 34,
   "metadata": {},
   "outputs": [],
   "source": [
    "afect = facile.minimize(staffs, -revenue)"
   ]
  },
  {
   "cell_type": "markdown",
   "metadata": {},
   "source": [
    "<div class=\"alert alert-danger\">\n",
    "    <b>Pretty print</b> \n",
    "</div>"
   ]
  },
  {
   "cell_type": "code",
   "execution_count": 35,
   "metadata": {},
   "outputs": [
    {
     "name": "stdout",
     "output_type": "stream",
     "text": [
      "\n",
      "Staff number 0: flight 1 from/to [1, 2] schedule at [8, 7], flight 4 from/to [2, 4] schedule at [13, 12], flight 6 from/to [4, 1] schedule at [20, 18], \n",
      "Staff number 1: flight 1 from/to [1, 2] schedule at [8, 7], flight 4 from/to [2, 4] schedule at [13, 12], flight 6 from/to [4, 1] schedule at [20, 18], \n",
      "Staff number 2: flight 2 from/to [1, 3] schedule at [9, 8], flight 5 from/to [3, 1] schedule at [24, 23], \n",
      "Staff number 3: flight 2 from/to [1, 3] schedule at [9, 8], flight 5 from/to [3, 1] schedule at [24, 23], \n",
      "Staff number 4: flight 3 from/to [1, 4] schedule at [11, 9], flight 7 from/to [4, 3] schedule at [19, 18], flight 5 from/to [3, 1] schedule at [24, 23], \n",
      "Staff number 5: flight 3 from/to [1, 4] schedule at [11, 9], flight 7 from/to [4, 3] schedule at [19, 18], flight 5 from/to [3, 1] schedule at [24, 23], \n",
      "Staff number 6: flight 1 from/to [1, 2] schedule at [8, 7], flight 4 from/to [2, 4] schedule at [13, 12], flight 6 from/to [4, 1] schedule at [20, 18], \n",
      "Staff number 7: flight 1 from/to [1, 2] schedule at [8, 7], flight 4 from/to [2, 4] schedule at [13, 12], flight 6 from/to [4, 1] schedule at [20, 18], \n",
      "Staff number 8: flight 2 from/to [1, 3] schedule at [9, 8], flight 5 from/to [3, 1] schedule at [24, 23], \n",
      "Staff number 9: flight 2 from/to [1, 3] schedule at [9, 8], flight 5 from/to [3, 1] schedule at [24, 23], \n",
      "Staff number 10: flight 3 from/to [1, 4] schedule at [11, 9], flight 6 from/to [4, 1] schedule at [20, 18], \n",
      "Staff number 11: flight 3 from/to [1, 4] schedule at [11, 9], flight 7 from/to [4, 3] schedule at [19, 18], flight 5 from/to [3, 1] schedule at [24, 23], \n",
      "Flight number 1: pilots {0, 1} cabin crew {6, 7} (≥ 2)\n",
      "Flight number 2: pilots {2, 3} cabin crew {8, 9} (≥ 2)\n",
      "Flight number 3: pilots {4, 5} cabin crew {10, 11} (≥ 2)\n",
      "Flight number 4: pilots {0, 1} cabin crew {6, 7} (≥ 1)\n",
      "Flight number 5: pilots {2, 3, 4, 5} cabin crew {8, 9, 11} (≥ 2)\n",
      "Flight number 6: pilots {0, 1} cabin crew {10, 6, 7} (≥ 2)\n",
      "Flight number 7: pilots {4, 5} cabin crew {11} (≥ 1)"
     ]
    }
   ],
   "source": [
    "schedule_made = []\n",
    "for i in afect.solution:\n",
    "    schedule_made.append(all_paths[i])\n",
    "\n",
    "for i in range(Ne):\n",
    "    vec = schedule_made[i][1:]\n",
    "    print('\\nStaff number {}: '.format(i), end='')\n",
    "    [print('flight {} from/to [{}, {}] schedule at [{}, {}], '\n",
    "           .format(j, Va[Ov[j]].value(),Va[Dv[j]].value(), Ta[j].value(), Td[j].value()),  end='') for j in vec if j >0] \n",
    "\n",
    "for flight in range(1,Nv+1):\n",
    "    print('\\nFlight number {}: '.format(flight), end='')\n",
    "    pilots = set()\n",
    "    crews = set()\n",
    "    for staff in range(Ne):\n",
    "        vec = schedule_made[staff][1:]\n",
    "        if flight in vec:\n",
    "            if Ty[staff]:\n",
    "                pilots.add(staff) \n",
    "            else:\n",
    "                crews.add(staff)\n",
    "    num = Nec[flight]\n",
    "    [print('pilots {} cabin crew {} (≥ {})'.format(pilots, crews, num), end='')]\n"
   ]
  },
  {
   "cell_type": "markdown",
   "metadata": {},
   "source": [
    "<div class=\"alert alert-danger\">\n",
    "    camiho -> espaço de pesquisa\n",
    "</div>"
   ]
  },
  {
   "cell_type": "markdown",
   "metadata": {},
   "source": [
    "# MILP using PuLP"
   ]
  },
  {
   "cell_type": "code",
   "execution_count": 36,
   "metadata": {},
   "outputs": [],
   "source": [
    "from pulp import *"
   ]
  },
  {
   "cell_type": "code",
   "execution_count": 37,
   "metadata": {},
   "outputs": [],
   "source": [
    "load_airline(2)"
   ]
  },
  {
   "cell_type": "markdown",
   "metadata": {},
   "source": [
    "<div class=\"alert alert-danger\">\n",
    "    <b>Create the 'prob' variable to contain the problem data</b> \n",
    "</div>"
   ]
  },
  {
   "cell_type": "code",
   "execution_count": 38,
   "metadata": {},
   "outputs": [],
   "source": [
    "prob = LpProblem(\"The Afectation Problem\", LpMaximize)"
   ]
  },
  {
   "cell_type": "markdown",
   "metadata": {},
   "source": [
    "<div class=\"alert alert-danger\">\n",
    "    <b>Solution space</b> \n",
    "</div>"
   ]
  },
  {
   "cell_type": "code",
   "execution_count": 39,
   "metadata": {},
   "outputs": [],
   "source": [
    "all_paths = [x.solution for x in result][:-1]\n",
    "num_paths = len(all_paths)\n",
    "# Match staff and path\n",
    "matches = [tuple([staff,g]) for staff in range(Ne) \n",
    "                for g in range(num_paths)\n",
    "                if ((Vh[staff] == Va[Ov[all_paths[g][1]]])|(all_paths[g][1] == 0))] # check staff hometown\n",
    "                  \n",
    "x = pulp.LpVariable.dicts('', matches, \n",
    "                            lowBound = 0,\n",
    "                            upBound = 1,\n",
    "                            cat = LpInteger)"
   ]
  },
  {
   "cell_type": "markdown",
   "metadata": {},
   "source": [
    "<div class=\"alert alert-danger\">\n",
    "    <b>Objective function</b> \n",
    "</div>"
   ]
  },
  {
   "cell_type": "code",
   "execution_count": 40,
   "metadata": {},
   "outputs": [],
   "source": [
    "revenue = 0\n",
    "for staff, index_path in matches:\n",
    "    crews = 0\n",
    "    pilots = 0\n",
    "    if x[tuple([staff, index_path])] != 0:\n",
    "        for flight in range(1, Nv+1):\n",
    "            crews += sum([(all_paths[index_path][j] == flight)*(1-Ty[staff])\n",
    "                            for j in range(1,Nvmax+1)])\n",
    "            pilots += sum([(all_paths[index_path][j] == flight)*Ty[staff]\n",
    "                            for j in range(1,Nvmax+1)])\n",
    "            \n",
    "            seated = (Np[flight] - ((pilots-2) + (crews - Nec[flight])))\n",
    "            revenue += seated*Pr[flight]*x[tuple([staff, index_path])]\n",
    "    \n",
    "prob += revenue"
   ]
  },
  {
   "cell_type": "markdown",
   "metadata": {},
   "source": [
    "<div class=\"alert alert-danger\">\n",
    "    <b>Check if each staff is in a group</b> \n",
    "</div>"
   ]
  },
  {
   "cell_type": "code",
   "execution_count": 41,
   "metadata": {},
   "outputs": [],
   "source": [
    "for staff in range(Ne):\n",
    "    prob += sum([x[key] for key in matches if (key[0] == staff)]) == 1"
   ]
  },
  {
   "cell_type": "markdown",
   "metadata": {},
   "source": [
    "<div class=\"alert alert-danger\">\n",
    "    <b>Check if each flight is in the paths</b> \n",
    "</div>"
   ]
  },
  {
   "cell_type": "code",
   "execution_count": 42,
   "metadata": {},
   "outputs": [],
   "source": [
    "for flight in range(1, Nv+1):\n",
    "    prob += sum([x[tuple([staff, g])] for staff,g in matches\n",
    "                                if flight in all_paths[g]]) >= 1\n",
    "    \n",
    "    # Check minimum number of pilots and crew member \n",
    "    # pilots\n",
    "    prob += sum([Ty[staff]*x[tuple([staff, index_path])] for staff,index_path in matches\n",
    "                    if flight in all_paths[index_path]]) >= 2\n",
    "    # crew members\n",
    "    prob += sum([(1-Ty[staff])*x[tuple([staff, index_path])] for staff,index_path in matches\n",
    "                    if flight in all_paths[index_path]]) >= Nec[flight]"
   ]
  },
  {
   "cell_type": "markdown",
   "metadata": {},
   "source": [
    "<div class=\"alert alert-danger\">\n",
    "    <b>Solve problem</b> \n",
    "</div>"
   ]
  },
  {
   "cell_type": "code",
   "execution_count": 43,
   "metadata": {},
   "outputs": [],
   "source": [
    "resultPulp = prob.solve()"
   ]
  },
  {
   "cell_type": "markdown",
   "metadata": {},
   "source": [
    "<div class=\"alert alert-danger\">\n",
    "    <b>Print solution</b> \n",
    "</div>"
   ]
  },
  {
   "cell_type": "code",
   "execution_count": 45,
   "metadata": {},
   "outputs": [
    {
     "name": "stdout",
     "output_type": "stream",
     "text": [
      "\n",
      "Staff number 0: flight 1 from/to [1, 2] schedule at [8, 7], flight 4 from/to [2, 4] schedule at [13, 12], flight 6 from/to [4, 1] schedule at [20, 18], \n",
      "Staff number 1: flight 1 from/to [1, 2] schedule at [8, 7], flight 4 from/to [2, 4] schedule at [13, 12], flight 6 from/to [4, 1] schedule at [20, 18], \n",
      "Staff number 2: flight 3 from/to [1, 4] schedule at [11, 9], flight 7 from/to [4, 3] schedule at [19, 18], flight 5 from/to [3, 1] schedule at [24, 23], \n",
      "Staff number 3: flight 2 from/to [1, 3] schedule at [9, 8], flight 5 from/to [3, 1] schedule at [24, 23], \n",
      "Staff number 4: flight 3 from/to [1, 4] schedule at [11, 9], flight 7 from/to [4, 3] schedule at [19, 18], flight 5 from/to [3, 1] schedule at [24, 23], \n",
      "Staff number 5: flight 2 from/to [1, 3] schedule at [9, 8], flight 5 from/to [3, 1] schedule at [24, 23], \n",
      "Staff number 6: flight 3 from/to [1, 4] schedule at [11, 9], flight 6 from/to [4, 1] schedule at [20, 18], \n",
      "Staff number 7: flight 2 from/to [1, 3] schedule at [9, 8], flight 5 from/to [3, 1] schedule at [24, 23], \n",
      "Staff number 8: flight 2 from/to [1, 3] schedule at [9, 8], flight 5 from/to [3, 1] schedule at [24, 23], \n",
      "Staff number 9: flight 1 from/to [1, 2] schedule at [8, 7], flight 4 from/to [2, 4] schedule at [13, 12], flight 6 from/to [4, 1] schedule at [20, 18], \n",
      "Staff number 10: flight 3 from/to [1, 4] schedule at [11, 9], flight 7 from/to [4, 3] schedule at [19, 18], flight 5 from/to [3, 1] schedule at [24, 23], \n",
      "Staff number 11: flight 1 from/to [1, 2] schedule at [8, 7], flight 4 from/to [2, 4] schedule at [13, 12], flight 6 from/to [4, 1] schedule at [20, 18], \n",
      "Flight number 1: pilots {0, 1} cabin crew {9, 11} (≥ 2)\n",
      "Flight number 2: pilots {3, 5} cabin crew {8, 7} (≥ 2)\n",
      "Flight number 3: pilots {2, 4} cabin crew {10, 6} (≥ 2)\n",
      "Flight number 4: pilots {0, 1} cabin crew {9, 11} (≥ 1)\n",
      "Flight number 5: pilots {2, 3, 4, 5} cabin crew {8, 10, 7} (≥ 2)\n",
      "Flight number 6: pilots {0, 1} cabin crew {9, 11, 6} (≥ 2)\n",
      "Flight number 7: pilots {2, 4} cabin crew {10} (≥ 1)"
     ]
    }
   ],
   "source": [
    "schedule_made = []\n",
    "for key in matches:\n",
    "    if x[key].value() == 1.0:\n",
    "        schedule_made.append(all_paths[key[1]])\n",
    "\n",
    "for i in range(Ne):\n",
    "    vec = schedule_made[i][1:]\n",
    "    print('\\nStaff number {}: '.format(i), end='')\n",
    "    [print('flight {} from/to [{}, {}] schedule at [{}, {}], '\n",
    "           .format(j, Va[Ov[j]],Va[Dv[j]], Ta[j], Td[j]),  end='') for j in vec if j>0] \n",
    "\n",
    "for flight in range(1,Nv+1):\n",
    "    print('\\nFlight number {}: '.format(flight), end='')\n",
    "    pilots = set()\n",
    "    crews = set()\n",
    "    for staff in range(Ne):\n",
    "        vec = schedule_made[staff][1:]\n",
    "        if flight in vec:\n",
    "            if Ty[staff]:\n",
    "                pilots.add(staff) \n",
    "            else:\n",
    "                crews.add(staff)\n",
    "    num = Nec[flight]\n",
    "    [print('pilots {} cabin crew {} (≥ {})'.format(pilots, crews, num), end='')]"
   ]
  },
  {
   "cell_type": "code",
   "execution_count": null,
   "metadata": {},
   "outputs": [],
   "source": []
  }
 ],
 "metadata": {
  "kernelspec": {
   "display_name": "Python 3",
   "language": "python",
   "name": "python3"
  },
  "language_info": {
   "codemirror_mode": {
    "name": "ipython",
    "version": 3
   },
   "file_extension": ".py",
   "mimetype": "text/x-python",
   "name": "python",
   "nbconvert_exporter": "python",
   "pygments_lexer": "ipython3",
   "version": "3.7.3"
  }
 },
 "nbformat": 4,
 "nbformat_minor": 4
}
