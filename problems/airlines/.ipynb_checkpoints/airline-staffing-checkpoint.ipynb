{
 "cells": [
  {
   "cell_type": "markdown",
   "metadata": {},
   "source": [
    "# Airline staffing problem\n",
    "\n",
    "*Original lab session by Gérard Verfaillie.*\n",
    "\n",
    "This problem is about the staffing of an airline, i.e. assigning pilots and crew members to scheduled flights using a Constraint Satisfaction/Optimisation Problem (CSP/COP) solver (here `facile`). Three instances of the problem are given.\n",
    "\n",
    "As a pure CSP modelling fails for the larger instance, we will solve it using a combination of CSP and Mixed-Integer Linear Programming (MILP) modelling. You may refer to past classes with the `PuLP` library for basic usage.\n",
    "\n",
    "<div class=\"alert alert-warning\">\n",
    "    <b>Warning</b>: You may submit in French or English. Make a choice and stick to it (don't mix languages).\n",
    "</div>"
   ]
  },
  {
   "cell_type": "code",
   "execution_count": 1,
   "metadata": {},
   "outputs": [],
   "source": [
    "import facile"
   ]
  },
  {
   "cell_type": "markdown",
   "metadata": {},
   "source": [
    "## Reminders of syntax with the facile library"
   ]
  },
  {
   "cell_type": "markdown",
   "metadata": {},
   "source": [
    "<div class=\"alert alert-success\">\n",
    "    <b>Hint</b>: Constraints may be summed: the result is the number of True values in the set of constraints.<br/>(However, this doesn't work with global constraints such as alldifferent)\n",
    "</div>\n",
    "\n",
    "Example: Find an array of length $n$ taking values in $[0, n-1]$ so that the $i$-th value is equal to the number of $i$ inside the array."
   ]
  },
  {
   "cell_type": "code",
   "execution_count": 2,
   "metadata": {},
   "outputs": [
    {
     "name": "stdout",
     "output_type": "stream",
     "text": [
      "indices: [0, 1, 2, 3, 4, 5, 6, 7, 8, 9]\n",
      "array:   [6, 2, 1, 0, 0, 0, 1, 0, 0, 0]\n"
     ]
    }
   ],
   "source": [
    "n = 10\n",
    "array = [facile.variable(range(n)) for i in range(n)]\n",
    "\n",
    "for i in range(n):\n",
    "    facile.constraint(sum([x == i for x in array]) == array[i])\n",
    "\n",
    "if facile.solve(array):\n",
    "    print(f\"indices: {list(range(n))}\")\n",
    "    print(f\"array:   {[v.value() for v in array]}\")"
   ]
  },
  {
   "cell_type": "markdown",
   "metadata": {},
   "source": [
    "<div class=\"alert alert-success\">\n",
    "    <b>Hint</b>: You may use the & and | operators for the logical $\\land$ and $\\lor$.<br/>(However, this doesn't work with global constraints such as alldifferent)\n",
    "</div>"
   ]
  },
  {
   "cell_type": "code",
   "execution_count": null,
   "metadata": {},
   "outputs": [],
   "source": [
    "a, b = facile.variable([0, 1, 2]), facile.variable([0, 1, 2])\n",
    "\n",
    "left = (a == b) & (a + b == 2)\n",
    "right = a > b\n",
    "facile.constraint(left | right)\n",
    "result = facile.solve([a, b])\n",
    "a.value(), b.value()"
   ]
  },
  {
   "cell_type": "markdown",
   "metadata": {},
   "source": [
    "<div class=\"alert alert-success\">\n",
    "    <b>Hint</b>: You may use the <code>solve_all</code> function to get all the solutions to a CSP problem.\n",
    "</div>"
   ]
  },
  {
   "cell_type": "code",
   "execution_count": null,
   "metadata": {},
   "outputs": [],
   "source": [
    "a, b = facile.variable([0, 1, 2]), facile.variable([0, 1, 2])\n",
    "\n",
    "left = (a == b) & (a + b == 2)\n",
    "right = a > b\n",
    "facile.constraint(left | right)\n",
    "result = facile.solve_all([a, b])\n",
    "\n",
    "[x.solution for x in result]"
   ]
  },
  {
   "cell_type": "markdown",
   "metadata": {},
   "source": [
    "<div class=\"alert alert-warning\">\n",
    "    <b>Warning</b>: Using <code>solve_all</code> does not assign any value to a variable. (The explanation lies in the fact the Branch&Bound algorithm returns with no solution found—hence the last <code>None</code>)<br/>Note the similar behaviour with the <code>minimize</code> function.\n",
    "</div>"
   ]
  },
  {
   "cell_type": "code",
   "execution_count": null,
   "metadata": {},
   "outputs": [],
   "source": [
    "a.value(), b.value()"
   ]
  },
  {
   "cell_type": "markdown",
   "metadata": {},
   "source": [
    "<div class=\"alert alert-success\">\n",
    "    <b>Hint</b>: You may index a 1D-array of variables with a facile variable or expression. But you first need to wrap the array with the facile.array function.\n",
    "</div>\n",
    "<div class=\"alert alert-danger\">\n",
    "    <b>Warning</b>: Be aware that the indexing value will be constrained between 0 and max_index.\n",
    "</div>\n",
    "<div class=\"alert alert-warning\">\n",
    "    <b>Warning</b>: If you work with 2D-arrays, the linearisation of indices (remember your programming classes 😀) is left to you as part of the exercice. This should be something along a[i][j] becomes a[i*n + j]...\n",
    "</div>\n",
    "\n",
    "Example: find the position of the first 0 in a given array."
   ]
  },
  {
   "cell_type": "code",
   "execution_count": null,
   "metadata": {},
   "outputs": [],
   "source": [
    "a = facile.array([1, 2, 0, 4, 5, 0])\n",
    "i = facile.variable(range(len(a)))\n",
    "facile.constraint(a[i] == 0)\n",
    "result = facile.minimize([i], i)\n",
    "result.solution"
   ]
  },
  {
   "cell_type": "markdown",
   "metadata": {},
   "source": [
    "## Problem description\n",
    "\n",
    "An airline operates a given set of flights between pairs of airports. Each flight must be staffed with two pilots and enough cabin crew members depending on the type of aircraft.\n",
    "\n",
    "Each staff member must start its trip from his hometown (not before 12am) and be back home in the evening (before 12am). They must not fly more than a maximum number of flights per day, and more than a maximum amount of time out of home (from first take-off time to last landing time in addition to commuting time).\n",
    "\n",
    "Each staff member may fly as a passenger if they just need to be transferred to another airport/city. They may as well be assigned to just stay home.\n",
    "\n",
    "We will first search for a solution to this problem, then find the optimal solution that will maximise the money made by the airline by minimising the number of passenger seats assigned to staff."
   ]
  },
  {
   "cell_type": "markdown",
   "metadata": {},
   "source": [
    "## Problem data"
   ]
  },
  {
   "cell_type": "markdown",
   "metadata": {},
   "source": [
    "The following data are given:\n",
    "- `Nv`: total number of flights;\n",
    "- `Na`: total number of airports;\n",
    "- `Ni`: total number of cities;\n",
    "- `Va`: a table associating a city to an airport (they may be several airports in the same city);\n",
    "- `Ov` (resp. `Dv`): this table associates an origin (resp. destination) airport to a flight;\n",
    "- `Td` (resp. `Ta`): this table associates a take-off time (resp. landing time) to a flight, (in round hours);\n",
    "- `Dt`: this table returns transit times between two airports of the same city (in hours). This time is equal to 25 (more than a day, so infinite) for airports in different cities; `Dt[i][i]` is the time required to transfer between two aircraft at airport $i$;\n",
    "- `Np`: this table associates a number of passenger seats to a flight;\n",
    "- `Nec`: this table associates a number of required cabin crew members to a flight;\n",
    "- `Pr`: this table associates a price for a ticket in a flight;\n",
    "- `Ne`: total number of staff in the airline;\n",
    "- `Ty`: this table associates 1 to a pilot, 0 to a cabin crew member;\n",
    "- `Vh`: this tables associates a hometown to each staff member;\n",
    "- `Nvmax`: maximum number of flights per staff member per day;\n",
    "- `Dmax`: maximum work time (out of home) per staff member per day;\n",
    "- `Dda`: standard commuting time (both ways).\n",
    "\n",
    "<div class=\"alert alert-success\">\n",
    "    <b>Hint</b>: Three instances are given (tiny, small, normal). Start debugging with the tiny instance; when it works, try the small instance: <b>you will be graded based on the results of the small instance</b>.\n",
    "</div>\n",
    "<div class=\"alert alert-warning\">\n",
    "    <b>Warning</b>: Keep the normal instance for next section. (Trying it with this modelling may stall the kernel and require a restart)\n",
    "</div>\n",
    "\n",
    "Index 0 in the tables printed below means \"no flight\", associated to \"no airport\" and \"no city\"."
   ]
  },
  {
   "cell_type": "code",
   "execution_count": null,
   "metadata": {
    "jupyter": {
     "outputs_hidden": false
    }
   },
   "outputs": [],
   "source": [
    "%run airline-tiny.py"
   ]
  },
  {
   "cell_type": "code",
   "execution_count": null,
   "metadata": {
    "jupyter": {
     "outputs_hidden": false
    }
   },
   "outputs": [],
   "source": [
    "#%run airline-small.py"
   ]
  },
  {
   "cell_type": "code",
   "execution_count": null,
   "metadata": {
    "jupyter": {
     "outputs_hidden": false
    }
   },
   "outputs": [],
   "source": [
    "#%run airline-normal.py"
   ]
  },
  {
   "cell_type": "markdown",
   "metadata": {},
   "source": [
    "## CSP modelling\n",
    "\n",
    "### Variable definitions\n",
    "\n",
    "First, define the variables of the problem. You may associate a variable to each flight taken by a staff member on a given day."
   ]
  },
  {
   "cell_type": "code",
   "execution_count": null,
   "metadata": {
    "jupyter": {
     "outputs_hidden": false
    }
   },
   "outputs": [],
   "source": []
  },
  {
   "cell_type": "markdown",
   "metadata": {},
   "source": [
    "### Constraints definition (50%)\n",
    "\n",
    "<div class=\"alert alert-warning\">\n",
    "    <b>Warning</b>: Please write and explain (use Python comments) the code for each constraint in the corresponding <b>code</b> cells.<br/>Use Python comments for explanations. <b>You will be graded accordingly.</b><br/>You may add as many cells as necessary but do not move existing cells.\n",
    "</div>"
   ]
  },
  {
   "cell_type": "markdown",
   "metadata": {},
   "source": [
    "- Flights assigned to `0` (no flight) must be at the end of the schedule.  \n",
    "  `[1, 0, 2]` could be equivalent to `[1, 2, 0]` but only the second one is valid."
   ]
  },
  {
   "cell_type": "code",
   "execution_count": null,
   "metadata": {
    "jupyter": {
     "outputs_hidden": false
    }
   },
   "outputs": [],
   "source": []
  },
  {
   "cell_type": "markdown",
   "metadata": {},
   "source": [
    "- If a staff member flies on that day, then (s)he leaves home and returns home."
   ]
  },
  {
   "cell_type": "code",
   "execution_count": null,
   "metadata": {
    "jupyter": {
     "outputs_hidden": false
    }
   },
   "outputs": [],
   "source": []
  },
  {
   "cell_type": "markdown",
   "metadata": {},
   "source": [
    "- A staff member may chain two flights iff :\n",
    "    - first flight's destination airport and second flight's origin airport cities match;\n",
    "    - there is enough transfer time between flights."
   ]
  },
  {
   "cell_type": "code",
   "execution_count": null,
   "metadata": {
    "jupyter": {
     "outputs_hidden": false
    }
   },
   "outputs": [],
   "source": []
  },
  {
   "cell_type": "markdown",
   "metadata": {},
   "source": [
    "- A staff member may not exceed his/her total time out of home;"
   ]
  },
  {
   "cell_type": "code",
   "execution_count": null,
   "metadata": {
    "jupyter": {
     "outputs_hidden": false
    }
   },
   "outputs": [],
   "source": []
  },
  {
   "cell_type": "markdown",
   "metadata": {},
   "source": [
    "- Each flights requires at least two pilots and enough cabin crew members."
   ]
  },
  {
   "cell_type": "code",
   "execution_count": null,
   "metadata": {
    "jupyter": {
     "outputs_hidden": false
    }
   },
   "outputs": [],
   "source": []
  },
  {
   "cell_type": "code",
   "execution_count": null,
   "metadata": {
    "jupyter": {
     "outputs_hidden": false
    }
   },
   "outputs": [],
   "source": []
  },
  {
   "cell_type": "markdown",
   "metadata": {},
   "source": [
    "### Problem optimisation (5%)"
   ]
  },
  {
   "cell_type": "code",
   "execution_count": null,
   "metadata": {
    "jupyter": {
     "outputs_hidden": false
    }
   },
   "outputs": [],
   "source": []
  },
  {
   "cell_type": "markdown",
   "metadata": {},
   "source": [
    "### Answer the problem (10%)"
   ]
  },
  {
   "cell_type": "markdown",
   "metadata": {},
   "source": [
    "<div class='alert alert-warning'>\n",
    "To maximise your grade, please post-process and pretty-print the results of the optimisation and check they are consistent with the constraints. <b>If you find inconsistencies you cannot solve, please point them.</b> (You will fail this question if you pretend everything is fine or if you try to hide your issues)\n",
    "</div>\n",
    "\n",
    "For each staff member, list the flights (s)he will be flying with cities and take-off/landing times.\n",
    "\n",
    "Valid example:\n",
    "```\n",
    "Staff number 0: 1 [1, 2] 2 [2, 1] scheduled at [8, 9] [12, 13]\n",
    "Staff number 1: ...\n",
    "```\n",
    "    \n",
    "For each flight, list the pilots and cabin crew members flying (together with the required staffing of the aircraft).\n",
    "\n",
    "Valid example:\n",
    "```\n",
    "Flight number 1: pilots {0, 1} cabin crew {2, 3} (≥ 2) ;\n",
    "Flight number 2: ...\n",
    "```\n"
   ]
  },
  {
   "cell_type": "code",
   "execution_count": null,
   "metadata": {
    "jupyter": {
     "outputs_hidden": false
    }
   },
   "outputs": [],
   "source": []
  },
  {
   "cell_type": "markdown",
   "metadata": {},
   "source": [
    "## A different modelling for CSP and MILP\n",
    "\n",
    "Since bigger instances will require too much computing time, let's try something smarter:\n",
    "1. First use a CSP solver to compute all possible paths between cities;\n",
    "2. Then compare performances between a CSP and a MILP solver as we no longer assign staff members but groups of staff members to each path.\n",
    "\n",
    "<div class=\"alert alert-success\">\n",
    "    <b>Hint</b>: Three instances are given (tiny, small, normal). Start debugging with the small instance; when it works, try the normal instance: you will be graded based on the results of the <b>normal instance</b>.\n",
    "</div>"
   ]
  },
  {
   "cell_type": "markdown",
   "metadata": {},
   "source": [
    "### First questions (10%)\n",
    "\n",
    "<div class=\"alert alert-warning\">\n",
    "    <b>Warning</b>: Do not expect any external assistance for these questions. You are on your own.\n",
    "</div>\n",
    "\n",
    "1. Why would it help to solve the problem for groups of staff member rather than individuals. Which mathematical principle enters into account?\n",
    "2. Try to explain why CSP better suits (compared to MILP) the path computing part of the problem."
   ]
  },
  {
   "cell_type": "code",
   "execution_count": null,
   "metadata": {},
   "outputs": [],
   "source": []
  },
  {
   "cell_type": "code",
   "execution_count": null,
   "metadata": {},
   "outputs": [],
   "source": []
  },
  {
   "cell_type": "markdown",
   "metadata": {},
   "source": [
    "### Compute all possible paths (10%)"
   ]
  },
  {
   "cell_type": "code",
   "execution_count": null,
   "metadata": {},
   "outputs": [],
   "source": [
    "%run airline-small.py"
   ]
  },
  {
   "cell_type": "code",
   "execution_count": null,
   "metadata": {
    "jupyter": {
     "outputs_hidden": false
    }
   },
   "outputs": [],
   "source": [
    "%run airline-normal.py"
   ]
  },
  {
   "cell_type": "code",
   "execution_count": null,
   "metadata": {
    "jupyter": {
     "outputs_hidden": false
    }
   },
   "outputs": [],
   "source": []
  },
  {
   "cell_type": "code",
   "execution_count": null,
   "metadata": {
    "jupyter": {
     "outputs_hidden": false
    }
   },
   "outputs": [],
   "source": []
  },
  {
   "cell_type": "markdown",
   "metadata": {},
   "source": [
    "### CSP and MILP resolution (15%)\n",
    "\n",
    "- Assign a group of staff members to each path;\n",
    "- Compare the computing time with CSP and MILP resolutions (use `PuLP` library for MILP);\n",
    "- Post-process and pretty-print the results;\n",
    "- Comment"
   ]
  },
  {
   "cell_type": "code",
   "execution_count": null,
   "metadata": {
    "jupyter": {
     "outputs_hidden": false
    }
   },
   "outputs": [],
   "source": []
  },
  {
   "cell_type": "code",
   "execution_count": null,
   "metadata": {},
   "outputs": [],
   "source": []
  }
 ],
 "metadata": {
  "kernelspec": {
   "display_name": "Python 3",
   "language": "python",
   "name": "python3"
  },
  "language_info": {
   "codemirror_mode": {
    "name": "ipython",
    "version": 3
   },
   "file_extension": ".py",
   "mimetype": "text/x-python",
   "name": "python",
   "nbconvert_exporter": "python",
   "pygments_lexer": "ipython3",
   "version": "3.7.3"
  }
 },
 "nbformat": 4,
 "nbformat_minor": 4
}
