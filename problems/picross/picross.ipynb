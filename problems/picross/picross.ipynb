{
 "cells": [
  {
   "cell_type": "markdown",
   "metadata": {},
   "source": [
    "## Picross\n",
    "\n",
    "Picross is a popular game of a similar nature to Sudoku.  \n",
    "It consists of a grid of square dimension $n \\times n$ and of a list of integers for each row and each column.\n",
    "\n",
    "![](./picross_duck.png)\n",
    "\n",
    "We can use the following notations:\n",
    "\n",
    "- $b \\in \\{0, 1\\}$ represents a bit, indicating a column or a row;\n",
    "- $i \\in \\{1, ..., n\\}$ represents a column or row index;\n",
    "- $m_i^b \\in \\{1, ..., \\lceil n/2 \\rceil\\}$ represents the size of the list associated to row/column $i^b$;\n",
    "- $a_{i,k}^b \\in \\{1, ..., n\\}$ is the $k$-th integer of the list associated to row/column $i^b$.\n",
    "\n",
    "The goal is to darken some cells of the grid, such that in each row/column $i^b$ the number of successive black cells form the list $\\{a_{i,1}^b, ..., a_{i,m_i^b}^b\\}$.\n",
    "\n",
    "<div class=\"alert alert-warning\">\n",
    "**Paper submission** (half of the grade):<br/>\n",
    "Before heading to the code, you shall answer the following questions.<br/>\n",
    "Please **handwrite** your answers on a separate sheet of paper. You will submit a pdf scan of this document together with your notebook.  \n",
    "(You may take a picture with your phone if need be but the pdf option is preferred.)\n",
    "</div>\n",
    "\n",
    "1. There are two ways to model the problem:\n",
    "    - binary variables (1) associated to the color of each cell, or\n",
    "    - integer variables (2) associated to the up/left coordinate of each black cluster.  \n",
    "  For **both** ways, name the decision variables and their associated domain.\n",
    "\n",
    "2. Write the constraint stating that on each line and column, two blocks do not overlap.  \n",
    "Choose **one** of the two ways of modelling the problem (i.e. decision variables from (1) or from (2)) to express this constraint.\n",
    "\n",
    "3. Write the constraint that puts a limit to the number of black cells on each line/column.  \n",
    "Choose **one** of the two ways of modelling the problem (i.e. decision variables from (1) or from (2)) to express this constraint.\n",
    "\n",
    "4. Write the constraint that links decision variables from (1) to decision variables from (2), stating the conditions under which a cell must be coloured in black.\n",
    "\n",
    "<div class=\"alert alert-danger\">\n",
    "Before you start coding, **please take time to understand** what happened: we stated two different ways to model the same problem (question 1.). Both are convenient for stating one part of the problem, but cannot state the whole set of constraints (question 2. and 3.).<br/>One constraint (question 4.) helps linking both decision variables.\n",
    "</div>\n",
    "\n",
    "You are provided a set of problems in the Python dictionary `nonograms`. Your code will be evaluated on all these problems, but you should start with small problems like `moon`, `star` and `cat`. The most time-consuming should be `house` so do not try it before your code is stable.\n",
    "\n",
    "Have a look at variables `lines` and `columns`, since you will have to feed this data into your problem. From now, it should be (almost) direct to code the constraints you have written on paper into Python.\n",
    "\n",
    "<div class=\"alert alert-warning\">\n",
    "Finally, **do not waste too much time on the output**.  \n",
    "You will **not** get extra points with a fancy matplotlib plot.  \n",
    "A text output, with stars (`*`) or black characters (`■`) like the following ones is enough:\n",
    "</div>\n",
    "\n",
    "```\n",
    "         ***                 ■■■    \n",
    "        *****               ■■■■■   \n",
    "       **** ***            ■■■■ ■■■ \n",
    "       *******             ■■■■■■■  \n",
    "        *****               ■■■■■   \n",
    "         ***                 ■■■    \n",
    "        *****               ■■■■■   \n",
    "*     ********      ■     ■■■■■■■■  \n",
    "***  ***   ***      ■■■  ■■■   ■■■  \n",
    "******* *** **      ■■■■■■■ ■■■ ■■  \n",
    " ***** **** **       ■■■■■ ■■■■ ■■  \n",
    " ********  **        ■■■■■■■■  ■■   \n",
    "  **********          ■■■■■■■■■■    \n",
    "    ** ***              ■■ ■■■      \n",
    "      ******              ■■■■■■    \n",
    "\n",
    "```"
   ]
  },
  {
   "cell_type": "code",
   "execution_count": 1,
   "metadata": {},
   "outputs": [],
   "source": [
    "picross = {\n",
    "    'moon': {'lines': \"2 2 1,2 5 3\", 'columns': \"2 2 1,2 5 3\"},\n",
    "    'star': {'lines': \"2,2 2,2 0 1,1 1,1,1\", 'columns': \"2,2 2 1 2 2,2\"},\n",
    "    'cat': {'lines': \"1,1 2,2 5 1,1,1 7 5,2 3,1 3,1 4,2 7\",\n",
    "            'columns': \"1 6 2,6 8 2,6 6,2 1,1 1 1,2 4\"},\n",
    "    'horse': {'lines': \"1 4 4,1 8 2,2 3,3 1,5 1,2,2,1 3,3 8\",\n",
    "              'columns': \"2,3 2,2 5,3 8,1 1,2,1 1,1,1 1,3,1 7 3,2 2,2\"},\n",
    "    'house': {\n",
    "        'lines': \"1 2,5 2,2,1,2 11 5,1,5 15 1,1 1,5,1 1,1,1,1,5,1 1,5,5,1 1,1,1,1,5,1 1,5,5,1 1,5,1 1,5,1 1,5,1\",\n",
    "        'columns': \"10 5 5,5 3,1,1,1 4,5 5,1,1,1 1,1,1,5 6 1,1,1,7 5,7 4,7 3,7 2,7 2 10\"\n",
    "    },\n",
    "    'duck': {\n",
    "        'lines': \"3 5 4,3 7 5 3 5 1,8 3,3,3 7,3,2 5,4,2 8,2 10 2,3 6\",\n",
    "        'columns': \"3 4 5 4 5 6 3,2,1 2,2,5 4,2,6 8,2,3 8,2,1,1 2,6,2,1 4,6 2,4 1\"\n",
    "    },\n",
    "}"
   ]
  },
  {
   "cell_type": "code",
   "execution_count": 2,
   "metadata": {},
   "outputs": [
    {
     "data": {
      "text/plain": [
       "(5, 5)"
      ]
     },
     "execution_count": 2,
     "metadata": {},
     "output_type": "execute_result"
    }
   ],
   "source": [
    "# After you replace the name of the problem, lines and columns are built into List[List[int]]\n",
    "problem = picross['moon']\n",
    "\n",
    "lines = [[int(s) for s in s_.split(',')] for s_ in problem['lines'].split(' ')]\n",
    "columns = [[int(s) for s in s_.split(',')] for s_ in problem['columns'].split(' ')]\n",
    "\n",
    "n_l, n_c = len(lines), len(columns)\n",
    "\n",
    "(n_l, n_c)"
   ]
  },
  {
   "cell_type": "code",
   "execution_count": 3,
   "metadata": {},
   "outputs": [],
   "source": [
    "# %load picross_solution.py\n"
   ]
  },
  {
   "cell_type": "code",
   "execution_count": null,
   "metadata": {},
   "outputs": [],
   "source": []
  }
 ],
 "metadata": {
  "kernelspec": {
   "display_name": "Python 3",
   "language": "python",
   "name": "python3"
  },
  "language_info": {
   "codemirror_mode": {
    "name": "ipython",
    "version": 3
   },
   "file_extension": ".py",
   "mimetype": "text/x-python",
   "name": "python",
   "nbconvert_exporter": "python",
   "pygments_lexer": "ipython3",
   "version": "3.6.3"
  }
 },
 "nbformat": 4,
 "nbformat_minor": 2
}
